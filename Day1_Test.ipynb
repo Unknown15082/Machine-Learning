{
  "nbformat": 4,
  "nbformat_minor": 0,
  "metadata": {
    "colab": {
      "name": "Day1 Test",
      "provenance": [],
      "collapsed_sections": [],
      "authorship_tag": "ABX9TyNUE3QZRQ53r3geU2jymECo",
      "include_colab_link": true
    },
    "kernelspec": {
      "name": "python3",
      "display_name": "Python 3"
    },
    "language_info": {
      "name": "python"
    },
    "accelerator": "GPU"
  },
  "cells": [
    {
      "cell_type": "markdown",
      "metadata": {
        "id": "view-in-github",
        "colab_type": "text"
      },
      "source": [
        "<a href=\"https://colab.research.google.com/github/Unknown15082/Machine-Learning/blob/main/Day1_Test.ipynb\" target=\"_parent\"><img src=\"https://colab.research.google.com/assets/colab-badge.svg\" alt=\"Open In Colab\"/></a>"
      ]
    },
    {
      "cell_type": "code",
      "execution_count": 2,
      "metadata": {
        "id": "qYFK2dSWMyQo"
      },
      "outputs": [],
      "source": [
        "# Imports\n",
        "\n",
        "import sys\n",
        "import numpy as np\n",
        "import pandas as pd\n",
        "import matplotlib.pyplot as plt\n",
        "import torch\n",
        "import torch.nn as nn\n",
        "from torch import optim\n",
        "from torch.utils.data import DataLoader\n",
        "from torch.utils.data.dataset import Dataset"
      ]
    },
    {
      "cell_type": "code",
      "source": [
        "# Generate dataset\n",
        "\n",
        "TRAIN: int = 30000\n",
        "\n",
        "X: np.ndarray = np.random.rand(TRAIN, 1) * (10 * 2) - 10    # Find <TRAIN> coordinates in [-10, 10]\n",
        "Y: np.ndarray = X**3 - (X**2) * 3 - X * 80                 # Calculate y = x^3 - 3x^2 - 80\n",
        "Y += np.random.rand(TRAIN, 1) - 1/2             # Add noises for y, in [-0.5, 0.5]"
      ],
      "metadata": {
        "id": "hBF6Y5rlNViq"
      },
      "execution_count": 3,
      "outputs": []
    },
    {
      "cell_type": "code",
      "source": [
        "# Display and plot the dataset\n",
        "\n",
        "print(f\"x in [{min(X)}, {max(X)}]\")\n",
        "print(f\"y in [{min(Y)}, {max(Y)}]\")\n",
        "\n",
        "figure = plt.figure()\n",
        "plt.scatter(X, Y, marker = 'o', s = 0.2)\n",
        "plt.show()"
      ],
      "metadata": {
        "colab": {
          "base_uri": "https://localhost:8080/",
          "height": 300
        },
        "id": "mMh6PlRgO9kv",
        "outputId": "02a7137f-d58f-4192-96d9-0eea380e214a"
      },
      "execution_count": 4,
      "outputs": [
        {
          "output_type": "stream",
          "name": "stdout",
          "text": [
            "x in [[-9.99521245], [9.99982275]]\n",
            "y in [[-498.31448956], [209.54452651]]\n"
          ]
        },
        {
          "output_type": "display_data",
          "data": {
            "text/plain": [
              "<Figure size 432x288 with 1 Axes>"
            ],
            "image/png": "[encoded data removed]"
          },
          "metadata": {
            "needs_background": "light"
          }
        }
      ]
    },
    {
      "cell_type": "code",
      "source": [
        "# Class for Dataset\n",
        "\n",
        "class PolyDataset(Dataset):\n",
        "    def __init__(self, x: np.ndarray, y: np.ndarray) -> None:\n",
        "        x_dtype: torch.Tensor = torch.FloatTensor\n",
        "        y_dtype: torch.Tensor = torch.FloatTensor\n",
        "\n",
        "        self.length: int = x_dtype.shape[0]\n",
        "\n",
        "        self.x_data = torch.from_numpy(x).type(x_dtype)\n",
        "        self.y_data = torch.from_numpy(y).type(y_dtype)\n",
        "\n",
        "    def __getitem__(self, index: int):\n",
        "        return self.x_data[index], self.y_data[index]\n",
        "\n",
        "    def __len__(self) -> int:\n",
        "        return self.length"
      ],
      "metadata": {
        "id": "QxJMlPykiXAz"
      },
      "execution_count": 9,
      "outputs": []
    }
  ]
}