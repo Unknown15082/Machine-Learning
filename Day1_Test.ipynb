{
  "nbformat": 4,
  "nbformat_minor": 0,
  "metadata": {
    "colab": {
      "name": "Day1 Test",
      "provenance": [],
      "collapsed_sections": [],
      "authorship_tag": "ABX9TyO6qPenf+wcmvXSYSrCc7FD",
      "include_colab_link": true
    },
    "kernelspec": {
      "name": "python3",
      "display_name": "Python 3"
    },
    "language_info": {
      "name": "python"
    },
    "accelerator": "GPU"
  },
  "cells": [
    {
      "cell_type": "markdown",
      "metadata": {
        "id": "view-in-github",
        "colab_type": "text"
      },
      "source": [
        "<a href=\"https://colab.research.google.com/github/Unknown15082/Machine-Learning/blob/main/Day1_Test.ipynb\" target=\"_parent\"><img src=\"https://colab.research.google.com/assets/colab-badge.svg\" alt=\"Open In Colab\"/></a>"
      ]
    },
    {
      "cell_type": "code",
      "execution_count": 1,
      "metadata": {
        "id": "qYFK2dSWMyQo"
      },
      "outputs": [],
      "source": [
        "# Imports\n",
        "\n",
        "import sys\n",
        "import numpy as np\n",
        "import pandas as pd\n",
        "import matplotlib.pyplot as plt\n",
        "import torch\n",
        "import torch.nn as nn\n",
        "from torch import optim\n",
        "from torch.utils.data import DataLoader\n",
        "from torch.utils.data.dataset import Dataset"
      ]
    },
    {
      "cell_type": "code",
      "source": [
        "# Generate dataset\n",
        "\n",
        "TRAIN = 30000\n",
        "\n",
        "X = np.random.rand(TRAIN, 1) * (10 * 2) - 10    # Find <TRAIN> coordinates in [-10, 10]\n",
        "Y = X**3 - (X**2) * 3 - X * 80                 # Calculate y = x^3 - 3x^2 - 80\n",
        "Y += np.random.rand(TRAIN, 1) - 1/2             # Add noises for y, in [-0.5, 0.5]"
      ],
      "metadata": {
        "id": "hBF6Y5rlNViq"
      },
      "execution_count": 52,
      "outputs": []
    },
    {
      "cell_type": "code",
      "source": [
        "# Display and plot the dataset\n",
        "\n",
        "print(f\"x in [{min(X)}, {max(X)}]\")\n",
        "print(f\"y in [{min(Y)}, {max(Y)}]\")\n",
        "\n",
        "figure = plt.figure()\n",
        "plt.scatter(X, Y, marker = 'o', s = 0.2)\n",
        "plt.show()"
      ],
      "metadata": {
        "colab": {
          "base_uri": "https://localhost:8080/",
          "height": 300
        },
        "id": "mMh6PlRgO9kv",
        "outputId": "e1ea1c1e-ad77-42ae-8843-2e01303d190c"
      },
      "execution_count": 53,
      "outputs": [
        {
          "output_type": "stream",
          "name": "stdout",
          "text": [
            "x in [[-9.99916016], [9.99995753]]\n",
            "y in [[-499.79467719], [209.5439763]]\n"
          ]
        },
        {
          "output_type": "display_data",
          "data": {
            "text/plain": [
              "<Figure size 432x288 with 1 Axes>"
            ],
            "image/png": "[encoded data removed]"
          },
          "metadata": {
            "needs_background": "light"
          }
        }
      ]
    }
  ]
}