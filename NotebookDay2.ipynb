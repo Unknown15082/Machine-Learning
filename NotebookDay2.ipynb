{
  "nbformat": 4,
  "nbformat_minor": 0,
  "metadata": {
    "colab": {
      "name": "Untitled1.ipynb",
      "provenance": [],
      "authorship_tag": "ABX9TyNlOoiQjfHr3Wb6UKCPwqdI",
      "include_colab_link": true
    },
    "kernelspec": {
      "name": "python3",
      "display_name": "Python 3"
    },
    "language_info": {
      "name": "python"
    },
    "accelerator": "GPU",
    "gpuClass": "standard"
  },
  "cells": [
    {
      "cell_type": "markdown",
      "metadata": {
        "id": "view-in-github",
        "colab_type": "text"
      },
      "source": [
        "<a href=\"https://colab.research.google.com/github/Unknown15082/Machine-Learning/blob/main/NotebookDay2.ipynb\" target=\"_parent\"><img src=\"https://colab.research.google.com/assets/colab-badge.svg\" alt=\"Open In Colab\"/></a>"
      ]
    },
    {
      "cell_type": "code",
      "execution_count": 61,
      "metadata": {
        "id": "sSAW99wSemF4"
      },
      "outputs": [],
      "source": [
        "from keras.datasets import mnist\n",
        "from matplotlib import pyplot as plt"
      ]
    },
    {
      "cell_type": "code",
      "source": [
        "(train_x, train_y), (test_x, test_y) = mnist.load_data()"
      ],
      "metadata": {
        "id": "y56QKyyOeqMF"
      },
      "execution_count": 62,
      "outputs": []
    },
    {
      "cell_type": "code",
      "source": [
        "fig, axs = plt.subplots(3, 3, figsize = (9, 9))\n",
        "\n",
        "for i in range(9):\n",
        "    row = i // 3\n",
        "    col = i % 3\n",
        "\n",
        "    axs[row][col].imshow(train_x[i], cmap = \"gray\")\n",
        "    axs[row][col].set_title(train_y[i])\n",
        "\n",
        "plt.show()"
      ],
      "metadata": {
        "colab": {
          "base_uri": "https://localhost:8080/",
          "height": 553
        },
        "id": "Lq4uE8p4e2JY",
        "outputId": "7cc4c08e-5e08-4a3d-cbd9-d16047974721"
      },
      "execution_count": 63,
      "outputs": [
        {
          "output_type": "display_data",
          "data": {
            "text/plain": [
              "<Figure size 648x648 with 9 Axes>"
            ],
            "image/png": "[encoded data removed]"
          },
          "metadata": {
            "needs_background": "light"
          }
        }
      ]
    },
    {
      "cell_type": "code",
      "source": [
        "train_x = train_x / 255.0\n",
        "test_x = test_x / 255.0\n",
        "\n",
        "# resize [0, 255] => [0, 1] --> less bias"
      ],
      "metadata": {
        "id": "9xrJzmyme4nu"
      },
      "execution_count": 64,
      "outputs": []
    },
    {
      "cell_type": "code",
      "source": [
        "from sklearn.model_selection import train_test_split"
      ],
      "metadata": {
        "id": "9Lbwe66Ih6HN"
      },
      "execution_count": 65,
      "outputs": []
    },
    {
      "cell_type": "code",
      "source": [
        "train_x, val_x, train_y, val_y = train_test_split(train_x, train_y, test_size = 0.01, random_state = 42)\n",
        "# 42 -> seed"
      ],
      "metadata": {
        "id": "XbDmjh_dh97J"
      },
      "execution_count": 66,
      "outputs": []
    },
    {
      "cell_type": "code",
      "source": [
        "import torch"
      ],
      "metadata": {
        "id": "udu1WC9tiH1M"
      },
      "execution_count": 67,
      "outputs": []
    },
    {
      "cell_type": "code",
      "source": [
        "class Data(torch.utils.data.Dataset):\n",
        "    def __init__(self, data, label):\n",
        "        self.x = data\n",
        "        self.y = label\n",
        "\n",
        "    def __len__(self):\n",
        "        return self.y.shape[0]\n",
        "\n",
        "    def __getitem__(self, idx):\n",
        "        return self.x[idx], self.y[idx]"
      ],
      "metadata": {
        "id": "Y4-KvO9Yiedu"
      },
      "execution_count": 68,
      "outputs": []
    },
    {
      "cell_type": "code",
      "source": [
        "train, val = Data(train_x, train_y), Data(val_x, val_y)"
      ],
      "metadata": {
        "id": "4lfhytHKjXFH"
      },
      "execution_count": 69,
      "outputs": []
    },
    {
      "cell_type": "code",
      "source": [
        "train_dataloader = torch.utils.data.DataLoader(train, batch_size = 32)\n",
        "val_dataloader = torch.utils.data.DataLoader(val, batch_size = 32)"
      ],
      "metadata": {
        "id": "h2keTXRdjeb7"
      },
      "execution_count": 70,
      "outputs": []
    },
    {
      "cell_type": "code",
      "source": [
        "train_x[0].shape # (28, 28)\n",
        "# 28 * 28 => 784"
      ],
      "metadata": {
        "colab": {
          "base_uri": "https://localhost:8080/"
        },
        "id": "kgG3DcJzkWVW",
        "outputId": "bafb547d-9ad8-4171-abfe-e1c05820778e"
      },
      "execution_count": 71,
      "outputs": [
        {
          "output_type": "execute_result",
          "data": {
            "text/plain": [
              "(28, 28)"
            ]
          },
          "metadata": {},
          "execution_count": 71
        }
      ]
    },
    {
      "cell_type": "code",
      "source": [
        "from torch import nn\n",
        "\n",
        "class SimpleModel(nn.Module):\n",
        "    def __init__(self):\n",
        "        super(SimpleModel, self).__init__()\n",
        "\n",
        "        self.linear1 = nn.Linear(784, 32)\n",
        "        self.relu = nn.ReLU()\n",
        "        self.linear2 = nn.Linear(32, 10)\n",
        "\n",
        "    def forward(self, x):\n",
        "        x = torch.flatten(x, 1)\n",
        "        x = self.linear1(x)\n",
        "        x = self.relu(x)\n",
        "        x = self.linear2(x)\n",
        "        return x"
      ],
      "metadata": {
        "id": "Xbfj_8NUkAj9"
      },
      "execution_count": 72,
      "outputs": []
    },
    {
      "cell_type": "code",
      "source": [
        "x = train_x[0]\n",
        "x = torch.flatten(torch.tensor(x))"
      ],
      "metadata": {
        "id": "KDsH03xFl0-3"
      },
      "execution_count": 73,
      "outputs": []
    },
    {
      "cell_type": "code",
      "source": [
        "plt.imshow(train_x[0], cmap = \"gray\")\n",
        "plt.show()"
      ],
      "metadata": {
        "colab": {
          "base_uri": "https://localhost:8080/",
          "height": 265
        },
        "id": "9wHoKZormALm",
        "outputId": "f168b243-f876-4956-f60c-38c02671807b"
      },
      "execution_count": 74,
      "outputs": [
        {
          "output_type": "display_data",
          "data": {
            "text/plain": [
              "<Figure size 432x288 with 1 Axes>"
            ],
            "image/png": "[encoded data removed]"
          },
          "metadata": {
            "needs_background": "light"
          }
        }
      ]
    },
    {
      "cell_type": "code",
      "source": [
        "model = SimpleModel()\n",
        "\n",
        "use_cuda = torch.cuda.is_available()\n",
        "\n",
        "device = torch.device('cuda' if use_cuda else 'cpu')\n",
        "\n",
        "criterion = nn.CrossEntropyLoss()\n",
        "optimizer = torch.optim.Adam(model.parameters())\n",
        "\n",
        "model = model.to(device)\n",
        "criterion = criterion.to(device)"
      ],
      "metadata": {
        "id": "u5isO-a2mbcI"
      },
      "execution_count": 75,
      "outputs": []
    },
    {
      "cell_type": "code",
      "source": [
        "from tqdm import tqdm\n",
        "\n",
        "min_val_loss = 10**18\n",
        "for epoch in range(6):\n",
        "    total_loss_train = 0\n",
        "    total_accuracy_train = 0\n",
        "\n",
        "    for x, y in tqdm(train_dataloader):\n",
        "        x = x.to(device)\n",
        "        y = y.to(device)\n",
        "\n",
        "        output = model(x.float())\n",
        "        batch_loss = criterion(output, y)\n",
        "        total_loss_train += batch_loss\n",
        "\n",
        "        acc = (output.argmax(dim = 1) == y).sum().item()\n",
        "        total_accuracy_train += acc\n",
        "\n",
        "        optimizer.zero_grad()\n",
        "        batch_loss.backward()\n",
        "        optimizer.step()\n",
        "\n",
        "    total_loss_val = 0\n",
        "    total_accuracy_val = 0\n",
        "\n",
        "    with torch.no_grad():\n",
        "        for x, y in tqdm(val_dataloader):\n",
        "            x = x.to(device)\n",
        "            y = y.to(device)\n",
        "\n",
        "            output = model(x.float())\n",
        "            batch_loss = criterion(output, y)\n",
        "            total_loss_val += batch_loss.item()\n",
        "\n",
        "            acc = (output.argmax(dim = 1) == y).sum().item()\n",
        "            total_accuracy_val += acc\n",
        "\n",
        "    print(\n",
        "        f\"Epoch {epoch + 1} | Train Loss {total_loss_train / len(train) :.3f}\\\n",
        "         | Train Accuracy {total_accuracy_train / len(train) :.3f}\\\n",
        "         | Val Loss: {total_loss_val / len(val) :.3f}\\\n",
        "         | Val Accuracy: {total_accuracy_val / len(val) :.3f}\"\n",
        "    )\n",
        "\n",
        "    if min_val_loss > total_loss_val / len(val):\n",
        "        min_val_loss = total_loss_val / len(val)\n",
        "        torch.save(model.state_dict(), \"simplemodel.pt\")\n",
        "        print(\"Saved (Improve total loss)\")"
      ],
      "metadata": {
        "colab": {
          "base_uri": "https://localhost:8080/"
        },
        "id": "1O3g75JInb-h",
        "outputId": "529481e9-910d-4ad6-88f1-a147190c8e02"
      },
      "execution_count": 82,
      "outputs": [
        {
          "output_type": "stream",
          "name": "stderr",
          "text": [
            "100%|██████████| 1857/1857 [00:02<00:00, 629.63it/s]\n",
            "100%|██████████| 19/19 [00:00<00:00, 1256.02it/s]\n"
          ]
        },
        {
          "output_type": "stream",
          "name": "stdout",
          "text": [
            "Epoch 1 | Train Loss 0.003         | Train Accuracy 0.973         | Val Loss: 0.004         | Val Accuracy: 0.958\n",
            "Saved (Improve total loss)\n"
          ]
        },
        {
          "output_type": "stream",
          "name": "stderr",
          "text": [
            "100%|██████████| 1857/1857 [00:02<00:00, 626.75it/s]\n",
            "100%|██████████| 19/19 [00:00<00:00, 1285.83it/s]\n"
          ]
        },
        {
          "output_type": "stream",
          "name": "stdout",
          "text": [
            "Epoch 2 | Train Loss 0.003         | Train Accuracy 0.973         | Val Loss: 0.004         | Val Accuracy: 0.958\n"
          ]
        },
        {
          "output_type": "stream",
          "name": "stderr",
          "text": [
            "100%|██████████| 1857/1857 [00:03<00:00, 612.06it/s]\n",
            "100%|██████████| 19/19 [00:00<00:00, 1184.62it/s]\n"
          ]
        },
        {
          "output_type": "stream",
          "name": "stdout",
          "text": [
            "Epoch 3 | Train Loss 0.003         | Train Accuracy 0.973         | Val Loss: 0.004         | Val Accuracy: 0.958\n"
          ]
        },
        {
          "output_type": "stream",
          "name": "stderr",
          "text": [
            "100%|██████████| 1857/1857 [00:02<00:00, 631.47it/s]\n",
            "100%|██████████| 19/19 [00:00<00:00, 1168.72it/s]\n"
          ]
        },
        {
          "output_type": "stream",
          "name": "stdout",
          "text": [
            "Epoch 4 | Train Loss 0.003         | Train Accuracy 0.973         | Val Loss: 0.004         | Val Accuracy: 0.958\n"
          ]
        },
        {
          "output_type": "stream",
          "name": "stderr",
          "text": [
            "100%|██████████| 1857/1857 [00:02<00:00, 631.02it/s]\n",
            "100%|██████████| 19/19 [00:00<00:00, 888.67it/s]\n"
          ]
        },
        {
          "output_type": "stream",
          "name": "stdout",
          "text": [
            "Epoch 5 | Train Loss 0.003         | Train Accuracy 0.973         | Val Loss: 0.004         | Val Accuracy: 0.958\n"
          ]
        },
        {
          "output_type": "stream",
          "name": "stderr",
          "text": [
            "100%|██████████| 1857/1857 [00:02<00:00, 620.27it/s]\n",
            "100%|██████████| 19/19 [00:00<00:00, 1278.40it/s]"
          ]
        },
        {
          "output_type": "stream",
          "name": "stdout",
          "text": [
            "Epoch 6 | Train Loss 0.003         | Train Accuracy 0.973         | Val Loss: 0.004         | Val Accuracy: 0.958\n"
          ]
        },
        {
          "output_type": "stream",
          "name": "stderr",
          "text": [
            "\n"
          ]
        }
      ]
    },
    {
      "cell_type": "code",
      "source": [
        "model = SimpleModel()\n",
        "\n",
        "model = model.to(device)\n",
        "\n",
        "model.load_state_dict(torch.load(\"/content/simplemodel.pt\"))"
      ],
      "metadata": {
        "colab": {
          "base_uri": "https://localhost:8080/"
        },
        "id": "0pYUHoYIvH8C",
        "outputId": "dbd366bd-43a8-4765-ad0a-8bb241412de5"
      },
      "execution_count": 77,
      "outputs": [
        {
          "output_type": "execute_result",
          "data": {
            "text/plain": [
              "<All keys matched successfully>"
            ]
          },
          "metadata": {},
          "execution_count": 77
        }
      ]
    },
    {
      "cell_type": "code",
      "source": [
        "test_x = torch.tensor(test_x).to(device)\n",
        "test_y = torch.tensor(test_y).to(device)"
      ],
      "metadata": {
        "id": "L2kl1mpjvX0w"
      },
      "execution_count": 78,
      "outputs": []
    },
    {
      "cell_type": "code",
      "source": [
        "(model(test_x.float()).argmax(dim = 1) == test_y).sum().item() / test_y.shape[0]"
      ],
      "metadata": {
        "colab": {
          "base_uri": "https://localhost:8080/"
        },
        "id": "TTQZtqYDvfZX",
        "outputId": "627f761c-4f40-4c0e-815c-2190b1f90c7e"
      },
      "execution_count": 79,
      "outputs": [
        {
          "output_type": "execute_result",
          "data": {
            "text/plain": [
              "0.9634"
            ]
          },
          "metadata": {},
          "execution_count": 79
        }
      ]
    },
    {
      "cell_type": "code",
      "source": [
        "fig, axs = plt.subplots(3, 3, figsize = (9, 9))\n",
        "for i in range(9):\n",
        "    row = i // 3\n",
        "    col = i % 3\n",
        "\n",
        "    axs[row][col].imshow(test_x[i].cpu(), cmap = \"gray\")\n",
        "    axs[row][col].set_title(model(test_x[i:i+1].float()).argmax(dim = 1)[0].item())\n",
        "\n",
        "plt.show()"
      ],
      "metadata": {
        "colab": {
          "base_uri": "https://localhost:8080/",
          "height": 553
        },
        "id": "p66H53qrvw1V",
        "outputId": "93b080ee-a29a-4031-f87b-2c6540bd04a6"
      },
      "execution_count": 80,
      "outputs": [
        {
          "output_type": "display_data",
          "data": {
            "text/plain": [
              "<Figure size 648x648 with 9 Axes>"
            ],
            "image/png": "[encoded data removed]"
          },
          "metadata": {
            "needs_background": "light"
          }
        }
      ]
    },
    {
      "cell_type": "code",
      "source": [
        ""
      ],
      "metadata": {
        "id": "lOeDK-IEwX_l"
      },
      "execution_count": 80,
      "outputs": []
    }
  ]
}